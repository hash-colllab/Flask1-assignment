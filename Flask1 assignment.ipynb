{
  "metadata": {
    "kernelspec": {
      "name": "python",
      "display_name": "Python (Pyodide)",
      "language": "python"
    },
    "language_info": {
      "codemirror_mode": {
        "name": "python",
        "version": 3
      },
      "file_extension": ".py",
      "mimetype": "text/x-python",
      "name": "python",
      "nbconvert_exporter": "python",
      "pygments_lexer": "ipython3",
      "version": "3.8"
    }
  },
  "nbformat_minor": 4,
  "nbformat": 4,
  "cells": [
    {
      "cell_type": "code",
      "source": "# ANS 1:- Flask is a web framework that allows developers to build lightweight web applications quickly and easily with\n# Flask Libraries.\n# Advantages of flask framework :\n# Flask is a lightweight backend framework with minimal dependencies.\n# Flask is easy to learn because its simple and intuitive API makes it easy to learn and use for beginners.\n# Flask is a flexible Framework because it allows you to customize and extend the framework to suit your needs easily.",
      "metadata": {
        "trusted": true
      },
      "outputs": [],
      "execution_count": 1
    },
    {
      "cell_type": "code",
      "source": "# ANS 2:- ",
      "metadata": {
        "trusted": true
      },
      "outputs": [],
      "execution_count": 3
    },
    {
      "cell_type": "markdown",
      "source": "![HELLO_WORLD](Screenshot_7-7-2024_95643_brown-florist-nadop.pwskills.app.png)",
      "metadata": {}
    },
    {
      "cell_type": "code",
      "source": "# ANS 3:- App Routing means mapping the URLs to a specific function that will handle the logic for that URL. \n# To bind a function to an URL path we use the app.route decorator. In the below example, we have implemented the above\n# routing in the flask.\n",
      "metadata": {
        "trusted": true
      },
      "outputs": [],
      "execution_count": 4
    },
    {
      "cell_type": "code",
      "source": "# ANS 4:- ",
      "metadata": {
        "trusted": true
      },
      "outputs": [],
      "execution_count": 5
    },
    {
      "cell_type": "markdown",
      "source": "![Welcome_msg](Screenshot_7-7-2024_101236_brown-florist-nadop.pwskills.app.png)",
      "metadata": {}
    },
    {
      "cell_type": "code",
      "source": "# ANS 5:-The url_for() method, is used to prepare a URL, for a function dynamically, such that, changing URLs, in the\n# application, is avoided. It accepts, the name of the view function, as the first argument, and, any number of keywords,\n# to be sent(to the view function), as the second argument. \n\n# Syntax: url_for(‘<function_name>’,<key> = <value>)",
      "metadata": {
        "trusted": true
      },
      "outputs": [],
      "execution_count": 6
    },
    {
      "cell_type": "code",
      "source": "",
      "metadata": {
        "trusted": true
      },
      "outputs": [],
      "execution_count": null
    }
  ]
}